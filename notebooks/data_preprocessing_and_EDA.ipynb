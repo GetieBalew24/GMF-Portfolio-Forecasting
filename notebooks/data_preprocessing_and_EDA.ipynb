{
 "cells": [
  {
   "cell_type": "markdown",
   "metadata": {},
   "source": [
    "## Preprocess and Explore the Data"
   ]
  },
  {
   "cell_type": "markdown",
   "metadata": {},
   "source": [
    "Extract historical financial data from **yfinance** for Portfolio Analysis:\n",
    "- **TSLA** provides potential high returns with high volatility.\n",
    "- **BND** contributes stability and low risk.\n",
    "- **SPY** offers diversified, moderate-risk market exposure."
   ]
  },
  {
   "cell_type": "code",
   "execution_count": 1,
   "metadata": {},
   "outputs": [],
   "source": [
    "# import libraries\n",
    "import pandas as pd\n",
    "import numpy as np\n",
    "import matplotlib.pyplot as plt\n",
    "import yfinance as yf\n",
    "import os, sys\n",
    "import seaborn as sns\n",
    "import os, sys\n",
    "\n",
    "current_dir = os.getcwd()\n",
    "# Append the parent directory to sys.path\n",
    "parent_dir = os.path.dirname(current_dir)\n",
    "sys.path.append(parent_dir)\n",
    "\n",
    "# ignore warrnings\n",
    "import warnings\n",
    "warnings.filterwarnings('ignore')"
   ]
  },
  {
   "cell_type": "code",
   "execution_count": 2,
   "metadata": {},
   "outputs": [],
   "source": [
    "# Import custom module from data_processor\n",
    "from scripts.data_preprocessing import DataProcessor"
   ]
  },
  {
   "cell_type": "code",
   "execution_count": 3,
   "metadata": {},
   "outputs": [],
   "source": [
    "# Instantiate the DataProcessor class\n",
    "processor = DataProcessor()"
   ]
  },
  {
   "cell_type": "markdown",
   "metadata": {},
   "source": [
    "#####  Load yfinance historical data for Tiker symbol [`TSLA`, `BND`, `SPY`]"
   ]
  },
  {
   "cell_type": "code",
   "execution_count": 4,
   "metadata": {},
   "outputs": [],
   "source": [
    "# Define the stock symbols\n",
    "symbols = ['TSLA', 'BND', 'SPY']\n",
    "# Define the start and end dates for data fetching\n",
    "start_date = '2015-01-01'\n",
    "end_date = '2025-02-27'"
   ]
  },
  {
   "cell_type": "code",
   "execution_count": 5,
   "metadata": {},
   "outputs": [
    {
     "name": "stdout",
     "output_type": "stream",
     "text": [
      "YF.download() has changed argument auto_adjust default to True\n"
     ]
    },
    {
     "name": "stderr",
     "output_type": "stream",
     "text": [
      "[*********************100%***********************]  1 of 1 completed\n",
      "[*********************100%***********************]  1 of 1 completed\n",
      "[*********************100%***********************]  1 of 1 completed\n"
     ]
    }
   ],
   "source": [
    "# Fetch the data for the specified symbols and date range\n",
    "data = processor.get_data(symbols, start_date, end_date)"
   ]
  },
  {
   "cell_type": "markdown",
   "metadata": {},
   "source": [
    "##### Data Cleaning"
   ]
  },
  {
   "cell_type": "code",
   "execution_count": 6,
   "metadata": {},
   "outputs": [],
   "source": [
    "# Clean the data\n",
    "cleaned_data = processor.clean_data()"
   ]
  },
  {
   "cell_type": "code",
   "execution_count": 7,
   "metadata": {},
   "outputs": [
    {
     "name": "stdout",
     "output_type": "stream",
     "text": [
      "\n",
      "Basic statistics for TSLA:\n",
      " Price                            Date        Close         High          Low  \\\n",
      "Ticker                                        TSLA         TSLA         TSLA   \n",
      "count                            2553  2553.000000  2553.000000  2553.000000   \n",
      "mean    2020-01-27 16:42:18.190364416   119.505809   122.191288   116.733070   \n",
      "min               2015-01-02 00:00:00     9.578000    10.331333     9.403333   \n",
      "25%               2017-07-17 00:00:00    17.316668    17.557333    16.964001   \n",
      "50%               2020-01-29 00:00:00    34.033333    34.377998    32.799999   \n",
      "75%               2022-08-10 00:00:00   223.070007   228.860001   218.199997   \n",
      "max               2025-02-26 00:00:00   479.859985   488.540009   457.510010   \n",
      "std                               NaN   117.775994   120.566908   114.971688   \n",
      "\n",
      "Price          Open        Volume  \n",
      "Ticker         TSLA          TSLA  \n",
      "count   2553.000000  2.553000e+03  \n",
      "mean     119.565939  1.118079e+08  \n",
      "min        9.488000  1.062000e+07  \n",
      "25%       17.288000  6.681300e+07  \n",
      "50%       33.599998  9.237940e+07  \n",
      "75%      223.929993  1.290735e+08  \n",
      "max      475.899994  9.140820e+08  \n",
      "std      117.931554  7.368611e+07  \n",
      "\n",
      "Basic statistics for BND:\n",
      " Price                            Date        Close         High          Low  \\\n",
      "Ticker                                         BND          BND          BND   \n",
      "count                            2553  2553.000000  2553.000000  2553.000000   \n",
      "mean    2020-01-27 16:42:18.190364416    69.312034    69.413831    69.208353   \n",
      "min               2015-01-02 00:00:00    61.860889    61.937380    61.822651   \n",
      "25%               2017-07-17 00:00:00    65.582047    65.641000    65.509905   \n",
      "50%               2020-01-29 00:00:00    68.383606    68.536494    68.244242   \n",
      "75%               2022-08-10 00:00:00    72.871826    72.931585    72.717301   \n",
      "max               2025-02-26 00:00:00    78.823265    78.920173    78.788028   \n",
      "std                               NaN     4.782846     4.791041     4.772715   \n",
      "\n",
      "Price          Open        Volume  \n",
      "Ticker          BND           BND  \n",
      "count   2553.000000  2.553000e+03  \n",
      "mean      69.315463  4.246936e+06  \n",
      "min       61.891484  0.000000e+00  \n",
      "25%       65.582017  2.074000e+06  \n",
      "50%       68.354157  3.840800e+06  \n",
      "75%       72.838387  5.661600e+06  \n",
      "max       78.884942  3.193720e+07  \n",
      "std        4.783634  2.792436e+06  \n",
      "\n",
      "Basic statistics for SPY:\n",
      " Price                            Date        Close         High          Low  \\\n",
      "Ticker                                         SPY          SPY          SPY   \n",
      "count                            2553  2553.000000  2553.000000  2553.000000   \n",
      "mean    2020-01-27 16:42:18.190364416   318.095270   319.761100   316.176505   \n",
      "min               2015-01-02 00:00:00   156.800842   157.864136   154.676956   \n",
      "25%               2017-07-17 00:00:00   215.134491   216.183559   214.495138   \n",
      "50%               2020-01-29 00:00:00   280.418030   283.603639   278.372636   \n",
      "75%               2022-08-10 00:00:00   409.043121   410.783194   405.413747   \n",
      "max               2025-02-26 00:00:00   612.929993   613.229980   609.559998   \n",
      "std                               NaN   119.951047   120.514944   119.287741   \n",
      "\n",
      "Price          Open        Volume  \n",
      "Ticker          SPY           SPY  \n",
      "count   2553.000000  2.553000e+03  \n",
      "mean     318.050799  8.683577e+07  \n",
      "min      156.354943  2.027000e+07  \n",
      "25%      215.396818  5.826650e+07  \n",
      "50%      281.572796  7.616040e+07  \n",
      "75%      408.166808  1.013570e+08  \n",
      "max      611.539978  5.072443e+08  \n",
      "std      119.949571  4.488349e+07  \n"
     ]
    }
   ],
   "source": [
    "# Display basic statistics\n",
    "stats = processor.basic_statistics()\n",
    "for symbol, stat in stats.items():\n",
    "    print(f\"\\nBasic statistics for {symbol}:\\n\", stat)"
   ]
  },
  {
   "cell_type": "code",
   "execution_count": 8,
   "metadata": {},
   "outputs": [
    {
     "name": "stdout",
     "output_type": "stream",
     "text": [
      "\n",
      "Basic statistics for TSLA:\n",
      " Price                            Date        Close         High          Low  \\\n",
      "Ticker                                        TSLA         TSLA         TSLA   \n",
      "count                            2553  2553.000000  2553.000000  2553.000000   \n",
      "mean    2020-01-27 16:42:18.190364416   119.505809   122.191288   116.733070   \n",
      "min               2015-01-02 00:00:00     9.578000    10.331333     9.403333   \n",
      "25%               2017-07-17 00:00:00    17.316668    17.557333    16.964001   \n",
      "50%               2020-01-29 00:00:00    34.033333    34.377998    32.799999   \n",
      "75%               2022-08-10 00:00:00   223.070007   228.860001   218.199997   \n",
      "max               2025-02-26 00:00:00   479.859985   488.540009   457.510010   \n",
      "std                               NaN   117.775994   120.566908   114.971688   \n",
      "\n",
      "Price          Open        Volume  \n",
      "Ticker         TSLA          TSLA  \n",
      "count   2553.000000  2.553000e+03  \n",
      "mean     119.565939  1.118079e+08  \n",
      "min        9.488000  1.062000e+07  \n",
      "25%       17.288000  6.681300e+07  \n",
      "50%       33.599998  9.237940e+07  \n",
      "75%      223.929993  1.290735e+08  \n",
      "max      475.899994  9.140820e+08  \n",
      "std      117.931554  7.368611e+07  \n",
      "\n",
      "Basic statistics for BND:\n",
      " Price                            Date        Close         High          Low  \\\n",
      "Ticker                                         BND          BND          BND   \n",
      "count                            2553  2553.000000  2553.000000  2553.000000   \n",
      "mean    2020-01-27 16:42:18.190364416    69.312034    69.413831    69.208353   \n",
      "min               2015-01-02 00:00:00    61.860889    61.937380    61.822651   \n",
      "25%               2017-07-17 00:00:00    65.582047    65.641000    65.509905   \n",
      "50%               2020-01-29 00:00:00    68.383606    68.536494    68.244242   \n",
      "75%               2022-08-10 00:00:00    72.871826    72.931585    72.717301   \n",
      "max               2025-02-26 00:00:00    78.823265    78.920173    78.788028   \n",
      "std                               NaN     4.782846     4.791041     4.772715   \n",
      "\n",
      "Price          Open        Volume  \n",
      "Ticker          BND           BND  \n",
      "count   2553.000000  2.553000e+03  \n",
      "mean      69.315463  4.246936e+06  \n",
      "min       61.891484  0.000000e+00  \n",
      "25%       65.582017  2.074000e+06  \n",
      "50%       68.354157  3.840800e+06  \n",
      "75%       72.838387  5.661600e+06  \n",
      "max       78.884942  3.193720e+07  \n",
      "std        4.783634  2.792436e+06  \n",
      "\n",
      "Basic statistics for SPY:\n",
      " Price                            Date        Close         High          Low  \\\n",
      "Ticker                                         SPY          SPY          SPY   \n",
      "count                            2553  2553.000000  2553.000000  2553.000000   \n",
      "mean    2020-01-27 16:42:18.190364416   318.095270   319.761100   316.176505   \n",
      "min               2015-01-02 00:00:00   156.800842   157.864136   154.676956   \n",
      "25%               2017-07-17 00:00:00   215.134491   216.183559   214.495138   \n",
      "50%               2020-01-29 00:00:00   280.418030   283.603639   278.372636   \n",
      "75%               2022-08-10 00:00:00   409.043121   410.783194   405.413747   \n",
      "max               2025-02-26 00:00:00   612.929993   613.229980   609.559998   \n",
      "std                               NaN   119.951047   120.514944   119.287741   \n",
      "\n",
      "Price          Open        Volume  \n",
      "Ticker          SPY           SPY  \n",
      "count   2553.000000  2.553000e+03  \n",
      "mean     318.050799  8.683577e+07  \n",
      "min      156.354943  2.027000e+07  \n",
      "25%      215.396818  5.826650e+07  \n",
      "50%      281.572796  7.616040e+07  \n",
      "75%      408.166808  1.013570e+08  \n",
      "max      611.539978  5.072443e+08  \n",
      "std      119.949571  4.488349e+07  \n"
     ]
    }
   ],
   "source": [
    "# Display basic statistics\n",
    "stats = processor.basic_statistics()\n",
    "for symbol, stat in stats.items():\n",
    "    print(f\"\\nBasic statistics for {symbol}:\\n\", stat)"
   ]
  }
 ],
 "metadata": {
  "kernelspec": {
   "display_name": "venv",
   "language": "python",
   "name": "python3"
  },
  "language_info": {
   "codemirror_mode": {
    "name": "ipython",
    "version": 3
   },
   "file_extension": ".py",
   "mimetype": "text/x-python",
   "name": "python",
   "nbconvert_exporter": "python",
   "pygments_lexer": "ipython3",
   "version": "3.12.3"
  }
 },
 "nbformat": 4,
 "nbformat_minor": 2
}
